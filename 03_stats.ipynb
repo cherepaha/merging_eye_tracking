{
 "cells": [
  {
   "cell_type": "code",
   "metadata": {
    "collapsed": true,
    "ExecuteTime": {
     "end_time": "2025-05-27T12:43:28.365201Z",
     "start_time": "2025-05-27T12:43:21.041006Z"
    }
   },
   "source": [
    "import pandas as pd\n",
    "import pymer4.models\n",
    "import numpy as np\n",
    "import scipy.stats\n",
    "import os"
   ],
   "outputs": [],
   "execution_count": 1
  },
  {
   "cell_type": "markdown",
   "source": [
    "# Output and formatting settings"
   ],
   "metadata": {
    "collapsed": false
   }
  },
  {
   "cell_type": "code",
   "source": [
    "column_names = {\"Estimate\": \"$\\\\beta$\", \"Z-stat\": \"$z$\", \"P-val\": \"$p$\", \"T-stat\": \"$t$\", \"F-stat\": \"$F$\", \"2.5_ci\": \"CI 2.5\\%\", \"97.5_ci\": \"CI 97.5\\%\", \"NumDF\": \"df\"}\n",
    "var_names = {\"tta_z\": \"$\\\\textrm{TTA}$\",\n",
    "             \"d_z\": \"distance\",\n",
    "             \"time_budget_z\": \"time budget\",\n",
    "             \"decision1\": \"decision\",\n",
    "             \"dwell_mirror_z\": \"\\% dwell time mirror\",\n",
    "             \"RT_z\": \"RT\",\n",
    "             \"tta_z:time_budget_z\": \"$\\\\textrm{TTA}$:time budget\",\n",
    "             \"d_z:dwell_mirror_z\": \"distance:\\% dwell time mirror\",\n",
    "             \"tta_z:dwell_mirror_z\": \"$\\\\textrm{TTA}$:\\% dwell time mirror\",\n",
    "             \"time_budget_z:dwell_mirror_z\": \"time budget:\\% dwell time mirror\",\n",
    "             \"tta_z:time_budget_z:dwell_mirror_z\": \"$\\\\textrm{TTA}$:time budget:\\% dwell time mirror\",\n",
    "             \"decision1:d_z\": \"decision:distance\",\n",
    "             \"decision1:tta_z\": \"decision:$\\\\textrm{TTA}$\",\n",
    "             \"decision1:time_budget_z\": \"decision:time budget\",\n",
    "             \"decision1:tta_z:time_budget_z\": \"decision:$\\\\textrm{TTA}$:time budget\"}\n",
    "\n",
    "def p_formatted(p):\n",
    "    if p>0.01:\n",
    "        return \"{:.3f}\".format(p)\n",
    "    elif p>0.001:\n",
    "        return \"{:.3f}\".format(p)\n",
    "    else:\n",
    "        return \"$<0.001$\""
   ],
   "metadata": {
    "collapsed": false,
    "ExecuteTime": {
     "end_time": "2025-05-27T12:43:35.472791Z",
     "start_time": "2025-05-27T12:43:35.454006Z"
    }
   },
   "outputs": [],
   "execution_count": 2
  },
  {
   "cell_type": "markdown",
   "source": [
    "# Read and pre-process the data"
   ],
   "metadata": {
    "collapsed": false
   }
  },
  {
   "cell_type": "code",
   "source": [
    "output_path = \"output\"\n",
    "\n",
    "processed_data_path = \"../../surfdrive/data/merging_eye_tracking/processed\"\n",
    "data = pd.read_csv(os.path.join(processed_data_path, \"processed_eye_data.csv\"))\n",
    "metrics = pd.read_csv(os.path.join(processed_data_path, \"metrics.csv\"))\n",
    "\n",
    "def get_z_score(x):\n",
    "    return (x-x.mean())/x.std()\n",
    "\n",
    "for col in [\"RT\", \"d\", \"tta\", \"time_budget\", \"dwell_mirror\"]:\n",
    "    metrics.loc[:, col+\"_z\"] = get_z_score(metrics[col]) "
   ],
   "metadata": {
    "collapsed": false,
    "ExecuteTime": {
     "end_time": "2025-05-27T12:45:30.615814Z",
     "start_time": "2025-05-27T12:45:20.572387Z"
    }
   },
   "outputs": [],
   "execution_count": 4
  },
  {
   "metadata": {
    "ExecuteTime": {
     "end_time": "2025-05-27T13:46:56.495892Z",
     "start_time": "2025-05-27T13:46:56.466112Z"
    }
   },
   "cell_type": "code",
   "source": "metrics",
   "outputs": [
    {
     "data": {
      "text/plain": [
       "      participant  trial  dwell_mirror  looked_at_mirror_early  tta   d  \\\n",
       "0               3      1      0.585526                   False    6  30   \n",
       "1               3      2      0.623810                   False    4  40   \n",
       "2               3      3      0.607018                   False    4  40   \n",
       "3               3      4      0.762500                   False    6  40   \n",
       "4               3      5      0.337209                   False    6  30   \n",
       "...           ...    ...           ...                     ...  ...  ..   \n",
       "8629           26    356      0.627273                   False    4  30   \n",
       "8630           26    357      0.489051                    True    4  30   \n",
       "8631           26    358      0.607843                    True    6  20   \n",
       "8632           26    359      0.504348                   False    4  40   \n",
       "8633           26    360      0.544444                    True    4  30   \n",
       "\n",
       "      time_budget decision     RT  is_gap_accepted      RT_z       d_z  \\\n",
       "0               6   Accept  1.515             True -0.065798  0.000142   \n",
       "1               6   Reject  2.100            False  0.850819  1.224709   \n",
       "2               4   Reject  2.847            False  2.021268  1.224709   \n",
       "3               6   Accept  1.596             True  0.061118  1.224709   \n",
       "4               6   Accept  1.720             True  0.255409  0.000142   \n",
       "...           ...      ...    ...              ...       ...       ...   \n",
       "8629            6   Accept  1.094             True -0.725449  0.000142   \n",
       "8630            6   Accept  1.369             True -0.294561  0.000142   \n",
       "8631            4   Accept  1.525             True -0.050130 -1.224426   \n",
       "8632            6   Accept  2.295             True  1.156358  1.224709   \n",
       "8633            6   Reject  1.796            False  0.374491  0.000142   \n",
       "\n",
       "         tta_z  time_budget_z  dwell_mirror_z  \n",
       "0     0.999942       1.000637       -0.426590  \n",
       "1    -0.999942       1.000637       -0.220428  \n",
       "2    -0.999942      -0.999247       -0.310856  \n",
       "3     0.999942       1.000637        0.526443  \n",
       "4     0.999942       1.000637       -1.763817  \n",
       "...        ...            ...             ...  \n",
       "8629 -0.999942       1.000637       -0.201778  \n",
       "8630 -0.999942       1.000637       -0.946124  \n",
       "8631  0.999942      -0.999247       -0.306410  \n",
       "8632 -0.999942       1.000637       -0.863749  \n",
       "8633 -0.999942       1.000637       -0.647822  \n",
       "\n",
       "[8634 rows x 15 columns]"
      ],
      "text/html": [
       "<div>\n",
       "<style scoped>\n",
       "    .dataframe tbody tr th:only-of-type {\n",
       "        vertical-align: middle;\n",
       "    }\n",
       "\n",
       "    .dataframe tbody tr th {\n",
       "        vertical-align: top;\n",
       "    }\n",
       "\n",
       "    .dataframe thead th {\n",
       "        text-align: right;\n",
       "    }\n",
       "</style>\n",
       "<table border=\"1\" class=\"dataframe\">\n",
       "  <thead>\n",
       "    <tr style=\"text-align: right;\">\n",
       "      <th></th>\n",
       "      <th>participant</th>\n",
       "      <th>trial</th>\n",
       "      <th>dwell_mirror</th>\n",
       "      <th>looked_at_mirror_early</th>\n",
       "      <th>tta</th>\n",
       "      <th>d</th>\n",
       "      <th>time_budget</th>\n",
       "      <th>decision</th>\n",
       "      <th>RT</th>\n",
       "      <th>is_gap_accepted</th>\n",
       "      <th>RT_z</th>\n",
       "      <th>d_z</th>\n",
       "      <th>tta_z</th>\n",
       "      <th>time_budget_z</th>\n",
       "      <th>dwell_mirror_z</th>\n",
       "    </tr>\n",
       "  </thead>\n",
       "  <tbody>\n",
       "    <tr>\n",
       "      <th>0</th>\n",
       "      <td>3</td>\n",
       "      <td>1</td>\n",
       "      <td>0.585526</td>\n",
       "      <td>False</td>\n",
       "      <td>6</td>\n",
       "      <td>30</td>\n",
       "      <td>6</td>\n",
       "      <td>Accept</td>\n",
       "      <td>1.515</td>\n",
       "      <td>True</td>\n",
       "      <td>-0.065798</td>\n",
       "      <td>0.000142</td>\n",
       "      <td>0.999942</td>\n",
       "      <td>1.000637</td>\n",
       "      <td>-0.426590</td>\n",
       "    </tr>\n",
       "    <tr>\n",
       "      <th>1</th>\n",
       "      <td>3</td>\n",
       "      <td>2</td>\n",
       "      <td>0.623810</td>\n",
       "      <td>False</td>\n",
       "      <td>4</td>\n",
       "      <td>40</td>\n",
       "      <td>6</td>\n",
       "      <td>Reject</td>\n",
       "      <td>2.100</td>\n",
       "      <td>False</td>\n",
       "      <td>0.850819</td>\n",
       "      <td>1.224709</td>\n",
       "      <td>-0.999942</td>\n",
       "      <td>1.000637</td>\n",
       "      <td>-0.220428</td>\n",
       "    </tr>\n",
       "    <tr>\n",
       "      <th>2</th>\n",
       "      <td>3</td>\n",
       "      <td>3</td>\n",
       "      <td>0.607018</td>\n",
       "      <td>False</td>\n",
       "      <td>4</td>\n",
       "      <td>40</td>\n",
       "      <td>4</td>\n",
       "      <td>Reject</td>\n",
       "      <td>2.847</td>\n",
       "      <td>False</td>\n",
       "      <td>2.021268</td>\n",
       "      <td>1.224709</td>\n",
       "      <td>-0.999942</td>\n",
       "      <td>-0.999247</td>\n",
       "      <td>-0.310856</td>\n",
       "    </tr>\n",
       "    <tr>\n",
       "      <th>3</th>\n",
       "      <td>3</td>\n",
       "      <td>4</td>\n",
       "      <td>0.762500</td>\n",
       "      <td>False</td>\n",
       "      <td>6</td>\n",
       "      <td>40</td>\n",
       "      <td>6</td>\n",
       "      <td>Accept</td>\n",
       "      <td>1.596</td>\n",
       "      <td>True</td>\n",
       "      <td>0.061118</td>\n",
       "      <td>1.224709</td>\n",
       "      <td>0.999942</td>\n",
       "      <td>1.000637</td>\n",
       "      <td>0.526443</td>\n",
       "    </tr>\n",
       "    <tr>\n",
       "      <th>4</th>\n",
       "      <td>3</td>\n",
       "      <td>5</td>\n",
       "      <td>0.337209</td>\n",
       "      <td>False</td>\n",
       "      <td>6</td>\n",
       "      <td>30</td>\n",
       "      <td>6</td>\n",
       "      <td>Accept</td>\n",
       "      <td>1.720</td>\n",
       "      <td>True</td>\n",
       "      <td>0.255409</td>\n",
       "      <td>0.000142</td>\n",
       "      <td>0.999942</td>\n",
       "      <td>1.000637</td>\n",
       "      <td>-1.763817</td>\n",
       "    </tr>\n",
       "    <tr>\n",
       "      <th>...</th>\n",
       "      <td>...</td>\n",
       "      <td>...</td>\n",
       "      <td>...</td>\n",
       "      <td>...</td>\n",
       "      <td>...</td>\n",
       "      <td>...</td>\n",
       "      <td>...</td>\n",
       "      <td>...</td>\n",
       "      <td>...</td>\n",
       "      <td>...</td>\n",
       "      <td>...</td>\n",
       "      <td>...</td>\n",
       "      <td>...</td>\n",
       "      <td>...</td>\n",
       "      <td>...</td>\n",
       "    </tr>\n",
       "    <tr>\n",
       "      <th>8629</th>\n",
       "      <td>26</td>\n",
       "      <td>356</td>\n",
       "      <td>0.627273</td>\n",
       "      <td>False</td>\n",
       "      <td>4</td>\n",
       "      <td>30</td>\n",
       "      <td>6</td>\n",
       "      <td>Accept</td>\n",
       "      <td>1.094</td>\n",
       "      <td>True</td>\n",
       "      <td>-0.725449</td>\n",
       "      <td>0.000142</td>\n",
       "      <td>-0.999942</td>\n",
       "      <td>1.000637</td>\n",
       "      <td>-0.201778</td>\n",
       "    </tr>\n",
       "    <tr>\n",
       "      <th>8630</th>\n",
       "      <td>26</td>\n",
       "      <td>357</td>\n",
       "      <td>0.489051</td>\n",
       "      <td>True</td>\n",
       "      <td>4</td>\n",
       "      <td>30</td>\n",
       "      <td>6</td>\n",
       "      <td>Accept</td>\n",
       "      <td>1.369</td>\n",
       "      <td>True</td>\n",
       "      <td>-0.294561</td>\n",
       "      <td>0.000142</td>\n",
       "      <td>-0.999942</td>\n",
       "      <td>1.000637</td>\n",
       "      <td>-0.946124</td>\n",
       "    </tr>\n",
       "    <tr>\n",
       "      <th>8631</th>\n",
       "      <td>26</td>\n",
       "      <td>358</td>\n",
       "      <td>0.607843</td>\n",
       "      <td>True</td>\n",
       "      <td>6</td>\n",
       "      <td>20</td>\n",
       "      <td>4</td>\n",
       "      <td>Accept</td>\n",
       "      <td>1.525</td>\n",
       "      <td>True</td>\n",
       "      <td>-0.050130</td>\n",
       "      <td>-1.224426</td>\n",
       "      <td>0.999942</td>\n",
       "      <td>-0.999247</td>\n",
       "      <td>-0.306410</td>\n",
       "    </tr>\n",
       "    <tr>\n",
       "      <th>8632</th>\n",
       "      <td>26</td>\n",
       "      <td>359</td>\n",
       "      <td>0.504348</td>\n",
       "      <td>False</td>\n",
       "      <td>4</td>\n",
       "      <td>40</td>\n",
       "      <td>6</td>\n",
       "      <td>Accept</td>\n",
       "      <td>2.295</td>\n",
       "      <td>True</td>\n",
       "      <td>1.156358</td>\n",
       "      <td>1.224709</td>\n",
       "      <td>-0.999942</td>\n",
       "      <td>1.000637</td>\n",
       "      <td>-0.863749</td>\n",
       "    </tr>\n",
       "    <tr>\n",
       "      <th>8633</th>\n",
       "      <td>26</td>\n",
       "      <td>360</td>\n",
       "      <td>0.544444</td>\n",
       "      <td>True</td>\n",
       "      <td>4</td>\n",
       "      <td>30</td>\n",
       "      <td>6</td>\n",
       "      <td>Reject</td>\n",
       "      <td>1.796</td>\n",
       "      <td>False</td>\n",
       "      <td>0.374491</td>\n",
       "      <td>0.000142</td>\n",
       "      <td>-0.999942</td>\n",
       "      <td>1.000637</td>\n",
       "      <td>-0.647822</td>\n",
       "    </tr>\n",
       "  </tbody>\n",
       "</table>\n",
       "<p>8634 rows × 15 columns</p>\n",
       "</div>"
      ]
     },
     "execution_count": 15,
     "metadata": {},
     "output_type": "execute_result"
    }
   ],
   "execution_count": 15
  },
  {
   "cell_type": "markdown",
   "source": [
    "# Decision outcome as a function of kinematic conditions"
   ],
   "metadata": {
    "collapsed": false,
    "pycharm": {
     "name": "#%% md\n"
    }
   }
  },
  {
   "cell_type": "code",
   "execution_count": 4,
   "outputs": [
    {
     "name": "stdout",
     "output_type": "stream",
     "text": [
      "Linear mixed model fit by maximum likelihood  ['lmerMod']\n",
      "Formula: is_gap_accepted~1+d_z+tta_z+time_budget_z+(1+tta_z+time_budget_z+d_z|participant)\n",
      "\n",
      "Family: binomial\t Inference: parametric\n",
      "\n",
      "Number of observations: 8634\t Groups: {'participant': 24.0}\n",
      "\n",
      "Log-likelihood: -3232.833 \t AIC: 6493.667\n",
      "\n",
      "Random effects:\n",
      "\n",
      "                      Name    Var    Std\n",
      "participant    (Intercept)  1.622  1.273\n",
      "participant          tta_z  0.268  0.518\n",
      "participant  time_budget_z  0.202  0.449\n",
      "participant            d_z  0.251  0.501\n",
      "\n",
      "                       IV1            IV2   Corr\n",
      "participant    (Intercept)          tta_z -0.124\n",
      "participant    (Intercept)  time_budget_z -0.220\n",
      "participant    (Intercept)            d_z  0.215\n",
      "participant          tta_z  time_budget_z -0.140\n",
      "participant          tta_z            d_z -0.548\n",
      "participant  time_budget_z            d_z  0.462\n",
      "\n",
      "Fixed effects:\n"
     ]
    },
    {
     "data": {
      "text/plain": "               Estimate    2.5_ci   97.5_ci        SE        OR  OR_2.5_ci  \\\n(Intercept)    1.299496  0.780144  1.818847  0.264980  3.667447   2.181787   \nd_z            0.537354  0.325556  0.749153  0.108062  1.711472   1.384800   \ntta_z          1.841692  1.611944  2.071439  0.117220  6.307198   5.012548   \ntime_budget_z -0.416696 -0.608421 -0.224971  0.097821  0.659221   0.544210   \n\n               OR_97.5_ci      Prob  Prob_2.5_ci  Prob_97.5_ci     Z-stat  \\\n(Intercept)      6.164747  0.785750     0.685711      0.860428   4.904127   \nd_z              2.115207  0.631197     0.580678      0.678994   4.972624   \ntta_z            7.936233  0.863149     0.833681      0.888096  15.711401   \ntime_budget_z    0.798539  0.397308     0.352420      0.443993  -4.259795   \n\n                      P-val  Sig  \n(Intercept)    9.384372e-07  ***  \nd_z            6.605256e-07  ***  \ntta_z          1.263553e-55  ***  \ntime_budget_z  2.046146e-05  ***  ",
      "text/html": "<div>\n<style scoped>\n    .dataframe tbody tr th:only-of-type {\n        vertical-align: middle;\n    }\n\n    .dataframe tbody tr th {\n        vertical-align: top;\n    }\n\n    .dataframe thead th {\n        text-align: right;\n    }\n</style>\n<table border=\"1\" class=\"dataframe\">\n  <thead>\n    <tr style=\"text-align: right;\">\n      <th></th>\n      <th>Estimate</th>\n      <th>2.5_ci</th>\n      <th>97.5_ci</th>\n      <th>SE</th>\n      <th>OR</th>\n      <th>OR_2.5_ci</th>\n      <th>OR_97.5_ci</th>\n      <th>Prob</th>\n      <th>Prob_2.5_ci</th>\n      <th>Prob_97.5_ci</th>\n      <th>Z-stat</th>\n      <th>P-val</th>\n      <th>Sig</th>\n    </tr>\n  </thead>\n  <tbody>\n    <tr>\n      <th>(Intercept)</th>\n      <td>1.299496</td>\n      <td>0.780144</td>\n      <td>1.818847</td>\n      <td>0.264980</td>\n      <td>3.667447</td>\n      <td>2.181787</td>\n      <td>6.164747</td>\n      <td>0.785750</td>\n      <td>0.685711</td>\n      <td>0.860428</td>\n      <td>4.904127</td>\n      <td>9.384372e-07</td>\n      <td>***</td>\n    </tr>\n    <tr>\n      <th>d_z</th>\n      <td>0.537354</td>\n      <td>0.325556</td>\n      <td>0.749153</td>\n      <td>0.108062</td>\n      <td>1.711472</td>\n      <td>1.384800</td>\n      <td>2.115207</td>\n      <td>0.631197</td>\n      <td>0.580678</td>\n      <td>0.678994</td>\n      <td>4.972624</td>\n      <td>6.605256e-07</td>\n      <td>***</td>\n    </tr>\n    <tr>\n      <th>tta_z</th>\n      <td>1.841692</td>\n      <td>1.611944</td>\n      <td>2.071439</td>\n      <td>0.117220</td>\n      <td>6.307198</td>\n      <td>5.012548</td>\n      <td>7.936233</td>\n      <td>0.863149</td>\n      <td>0.833681</td>\n      <td>0.888096</td>\n      <td>15.711401</td>\n      <td>1.263553e-55</td>\n      <td>***</td>\n    </tr>\n    <tr>\n      <th>time_budget_z</th>\n      <td>-0.416696</td>\n      <td>-0.608421</td>\n      <td>-0.224971</td>\n      <td>0.097821</td>\n      <td>0.659221</td>\n      <td>0.544210</td>\n      <td>0.798539</td>\n      <td>0.397308</td>\n      <td>0.352420</td>\n      <td>0.443993</td>\n      <td>-4.259795</td>\n      <td>2.046146e-05</td>\n      <td>***</td>\n    </tr>\n  </tbody>\n</table>\n</div>"
     },
     "execution_count": 4,
     "metadata": {},
     "output_type": "execute_result"
    }
   ],
   "source": [
    "model_decision = pymer4.models.Lmer(\"is_gap_accepted ~ 1 + d_z + tta_z + time_budget_z + (1 + tta_z + time_budget_z + d_z | participant)\", data=metrics, family=\"binomial\")\n",
    "model_decision_fit = model_decision.fit(summarize=True)\n",
    "model_decision.coefs"
   ],
   "metadata": {
    "collapsed": false,
    "ExecuteTime": {
     "end_time": "2024-09-28T18:02:08.701645400Z",
     "start_time": "2024-09-28T18:01:42.746630400Z"
    }
   }
  },
  {
   "cell_type": "code",
   "execution_count": 5,
   "outputs": [],
   "source": [
    "coefs = model_decision.coefs.loc[:, [\"Estimate\", \"SE\", \"Z-stat\", \"P-val\"]]\n",
    "coefs[\"P-val\"] = coefs[\"P-val\"].apply(p_formatted)\n",
    "styler = coefs.rename(columns=column_names, index=var_names).style.format(precision=2)\n",
    "\n",
    "with open(os.path.join(output_path, \"tab_decision.tex\"), 'w') as writer:\n",
    "     writer.write(styler.to_latex(\n",
    "         column_format=\"rrrrr\", position=\"!t\", position_float=\"centering\",\n",
    "         hrules=True, label=\"tab:decision\", caption=\"Standardized coefficients of the mixed-effects logistic regression describing the final decision. All effects were modelled as random slopes per participant: \\\\texttt{decision $\\sim$ 1 + distance + TTA + time budget + (1 + distance + TTA + time budget) | participant}.\"\n",
    "     )\n",
    ")"
   ],
   "metadata": {
    "collapsed": false,
    "ExecuteTime": {
     "end_time": "2024-09-28T18:02:08.800058800Z",
     "start_time": "2024-09-28T18:02:08.680120500Z"
    }
   }
  },
  {
   "cell_type": "markdown",
   "source": [
    "# Response time"
   ],
   "metadata": {
    "collapsed": false
   }
  },
  {
   "cell_type": "code",
   "execution_count": 6,
   "outputs": [
    {
     "name": "stdout",
     "output_type": "stream",
     "text": [
      "Linear mixed model fit by REML [’lmerMod’]\n",
      "Formula: RT_z~1+decision*(d_z+tta_z*time_budget_z)+(decision|participant)\n",
      "\n",
      "Family: gaussian\t Inference: parametric\n",
      "\n",
      "Number of observations: 8634\t Groups: {'participant': 24.0}\n",
      "\n",
      "Log-likelihood: -9164.353 \t AIC: 18356.706\n",
      "\n",
      "Random effects:\n",
      "\n",
      "                       Name    Var    Std\n",
      "participant     (Intercept)  0.343  0.586\n",
      "participant  decisionReject  0.201  0.449\n",
      "Residual                     0.475  0.689\n",
      "\n",
      "                     IV1             IV2   Corr\n",
      "participant  (Intercept)  decisionReject -0.431\n",
      "\n",
      "Fixed effects:\n"
     ]
    },
    {
     "data": {
      "text/plain": "                               Estimate    2.5_ci   97.5_ci        SE  \\\n(Intercept)                   -0.262322 -0.497570 -0.027074  0.120027   \ndecision1                      1.076628  0.891219  1.262037  0.094598   \nd_z                           -0.036674 -0.054909 -0.018440  0.009303   \ntta_z                          0.038983  0.018668  0.059298  0.010365   \ntime_budget_z                  0.057298  0.037564  0.077032  0.010069   \ntta_z:time_budget_z            0.044440  0.024741  0.064139  0.010051   \ndecision1:d_z                  0.091484  0.059867  0.123102  0.016132   \ndecision1:tta_z                0.284746  0.241664  0.327829  0.021981   \ndecision1:time_budget_z        0.131781  0.089988  0.173575  0.021323   \ndecision1:tta_z:time_budget_z  0.042008  0.000436  0.083580  0.021211   \n\n                                        DF     T-stat         P-val  Sig  \n(Intercept)                      23.082381  -2.185533  3.925263e-02    *  \ndecision1                        23.988532  11.381083  3.732780e-11  ***  \nd_z                            8579.888190  -3.942068  8.142388e-05  ***  \ntta_z                          8589.916562   3.761069  1.703127e-04  ***  \ntime_budget_z                  8579.983000   5.690774  1.306221e-08  ***  \ntta_z:time_budget_z            8579.076836   4.421580  9.918840e-06  ***  \ndecision1:d_z                  8591.988758   5.671088  1.464876e-08  ***  \ndecision1:tta_z                8599.404594  12.954012  5.051654e-38  ***  \ndecision1:time_budget_z        8583.265825   6.180098  6.698096e-10  ***  \ndecision1:tta_z:time_budget_z  8581.322753   1.980505  4.767869e-02    *  ",
      "text/html": "<div>\n<style scoped>\n    .dataframe tbody tr th:only-of-type {\n        vertical-align: middle;\n    }\n\n    .dataframe tbody tr th {\n        vertical-align: top;\n    }\n\n    .dataframe thead th {\n        text-align: right;\n    }\n</style>\n<table border=\"1\" class=\"dataframe\">\n  <thead>\n    <tr style=\"text-align: right;\">\n      <th></th>\n      <th>Estimate</th>\n      <th>2.5_ci</th>\n      <th>97.5_ci</th>\n      <th>SE</th>\n      <th>DF</th>\n      <th>T-stat</th>\n      <th>P-val</th>\n      <th>Sig</th>\n    </tr>\n  </thead>\n  <tbody>\n    <tr>\n      <th>(Intercept)</th>\n      <td>-0.262322</td>\n      <td>-0.497570</td>\n      <td>-0.027074</td>\n      <td>0.120027</td>\n      <td>23.082381</td>\n      <td>-2.185533</td>\n      <td>3.925263e-02</td>\n      <td>*</td>\n    </tr>\n    <tr>\n      <th>decision1</th>\n      <td>1.076628</td>\n      <td>0.891219</td>\n      <td>1.262037</td>\n      <td>0.094598</td>\n      <td>23.988532</td>\n      <td>11.381083</td>\n      <td>3.732780e-11</td>\n      <td>***</td>\n    </tr>\n    <tr>\n      <th>d_z</th>\n      <td>-0.036674</td>\n      <td>-0.054909</td>\n      <td>-0.018440</td>\n      <td>0.009303</td>\n      <td>8579.888190</td>\n      <td>-3.942068</td>\n      <td>8.142388e-05</td>\n      <td>***</td>\n    </tr>\n    <tr>\n      <th>tta_z</th>\n      <td>0.038983</td>\n      <td>0.018668</td>\n      <td>0.059298</td>\n      <td>0.010365</td>\n      <td>8589.916562</td>\n      <td>3.761069</td>\n      <td>1.703127e-04</td>\n      <td>***</td>\n    </tr>\n    <tr>\n      <th>time_budget_z</th>\n      <td>0.057298</td>\n      <td>0.037564</td>\n      <td>0.077032</td>\n      <td>0.010069</td>\n      <td>8579.983000</td>\n      <td>5.690774</td>\n      <td>1.306221e-08</td>\n      <td>***</td>\n    </tr>\n    <tr>\n      <th>tta_z:time_budget_z</th>\n      <td>0.044440</td>\n      <td>0.024741</td>\n      <td>0.064139</td>\n      <td>0.010051</td>\n      <td>8579.076836</td>\n      <td>4.421580</td>\n      <td>9.918840e-06</td>\n      <td>***</td>\n    </tr>\n    <tr>\n      <th>decision1:d_z</th>\n      <td>0.091484</td>\n      <td>0.059867</td>\n      <td>0.123102</td>\n      <td>0.016132</td>\n      <td>8591.988758</td>\n      <td>5.671088</td>\n      <td>1.464876e-08</td>\n      <td>***</td>\n    </tr>\n    <tr>\n      <th>decision1:tta_z</th>\n      <td>0.284746</td>\n      <td>0.241664</td>\n      <td>0.327829</td>\n      <td>0.021981</td>\n      <td>8599.404594</td>\n      <td>12.954012</td>\n      <td>5.051654e-38</td>\n      <td>***</td>\n    </tr>\n    <tr>\n      <th>decision1:time_budget_z</th>\n      <td>0.131781</td>\n      <td>0.089988</td>\n      <td>0.173575</td>\n      <td>0.021323</td>\n      <td>8583.265825</td>\n      <td>6.180098</td>\n      <td>6.698096e-10</td>\n      <td>***</td>\n    </tr>\n    <tr>\n      <th>decision1:tta_z:time_budget_z</th>\n      <td>0.042008</td>\n      <td>0.000436</td>\n      <td>0.083580</td>\n      <td>0.021211</td>\n      <td>8581.322753</td>\n      <td>1.980505</td>\n      <td>4.767869e-02</td>\n      <td>*</td>\n    </tr>\n  </tbody>\n</table>\n</div>"
     },
     "execution_count": 6,
     "metadata": {},
     "output_type": "execute_result"
    }
   ],
   "source": [
    "model_RT = pymer4.models.Lmer(\"RT_z ~ 1 + decision*(d_z + tta_z*time_budget_z) + (decision | participant) \", data=metrics, family=\"gaussian\")\n",
    "model_RT.fit(summarize=True, factors={\"decision\": [\"Accept\", \"Reject\"]})\n",
    "model_RT.coefs"
   ],
   "metadata": {
    "collapsed": false,
    "ExecuteTime": {
     "end_time": "2024-09-28T18:02:12.461969600Z",
     "start_time": "2024-09-28T18:02:08.740820400Z"
    }
   }
  },
  {
   "cell_type": "code",
   "execution_count": 7,
   "outputs": [],
   "source": [
    "coefs = model_RT.coefs.loc[:, [\"Estimate\", \"SE\", \"DF\", \"T-stat\", \"P-val\"]]\n",
    "coefs[\"P-val\"] = coefs[\"P-val\"].apply(p_formatted)\n",
    "styler = coefs.rename(columns=column_names, index=var_names).style.format(precision=2)\n",
    "\n",
    "with open(os.path.join(output_path, \"tab_RT.tex\"), 'w') as writer:\n",
    "     writer.write(styler.to_latex(\n",
    "         column_format=\"rrrrrr\", position=\"!t\", position_float=\"centering\",\n",
    "         hrules=True, label=\"tab:RT\", caption=\"Standardized coefficients of the mixed-effects linear regression describing response times. Random slope of decision was included per participant: \\\\texttt{RT $\\sim$ 1 + decision*(TTA*time budget + distance) + (1 + decision) | participant}. ``Accept'' was set as a reference level for the decision outcome factor. Degrees of freedom were estimated using the  Satterthwaite approximation.\"\n",
    "     )\n",
    ")"
   ],
   "metadata": {
    "collapsed": false,
    "ExecuteTime": {
     "end_time": "2024-09-28T18:02:12.509402300Z",
     "start_time": "2024-09-28T18:02:12.455983400Z"
    }
   }
  },
  {
   "cell_type": "markdown",
   "source": [
    "## ANOVA"
   ],
   "metadata": {
    "collapsed": false
   }
  },
  {
   "cell_type": "code",
   "execution_count": 8,
   "outputs": [
    {
     "name": "stdout",
     "output_type": "stream",
     "text": [
      "SS Type III Analysis of Variance Table with Satterthwaite approximated degrees of freedom:\n",
      "(NOTE: Using original model contrasts, orthogonality not guaranteed)\n"
     ]
    },
    {
     "data": {
      "text/plain": "                                      SS          MS  NumDF      DenomDF  \\\ndecision                       61.469085   61.469085      1    23.988532   \nd_z                             0.599919    0.599919      1  8594.728327   \ntta_z                         129.168121  129.168121      1  8597.057317   \ntime_budget_z                  63.368563   63.368563      1  8586.658892   \ntta_z:time_budget_z            18.071613   18.071613      1  8582.008689   \ndecision:d_z                   15.262386   15.262386      1  8591.988758   \ndecision:tta_z                 79.633941   79.633941      1  8599.404594   \ndecision:time_budget_z         18.125095   18.125095      1  8583.265825   \ndecision:tta_z:time_budget_z    1.861408    1.861408      1  8581.322753   \n\n                                  F-stat         P-val  Sig  \ndecision                      129.529044  3.732780e-11  ***  \nd_z                             1.264164  2.608958e-01       \ntta_z                         272.185979  3.173882e-60  ***  \ntime_budget_z                 133.531667  1.165224e-30  ***  \ntta_z:time_budget_z            38.080911  7.094581e-10  ***  \ndecision:d_z                   32.161243  1.464876e-08  ***  \ndecision:tta_z                167.806438  5.051654e-38  ***  \ndecision:time_budget_z         38.193609  6.698096e-10  ***  \ndecision:tta_z:time_budget_z    3.922400  4.767869e-02    *  ",
      "text/html": "<div>\n<style scoped>\n    .dataframe tbody tr th:only-of-type {\n        vertical-align: middle;\n    }\n\n    .dataframe tbody tr th {\n        vertical-align: top;\n    }\n\n    .dataframe thead th {\n        text-align: right;\n    }\n</style>\n<table border=\"1\" class=\"dataframe\">\n  <thead>\n    <tr style=\"text-align: right;\">\n      <th></th>\n      <th>SS</th>\n      <th>MS</th>\n      <th>NumDF</th>\n      <th>DenomDF</th>\n      <th>F-stat</th>\n      <th>P-val</th>\n      <th>Sig</th>\n    </tr>\n  </thead>\n  <tbody>\n    <tr>\n      <th>decision</th>\n      <td>61.469085</td>\n      <td>61.469085</td>\n      <td>1</td>\n      <td>23.988532</td>\n      <td>129.529044</td>\n      <td>3.732780e-11</td>\n      <td>***</td>\n    </tr>\n    <tr>\n      <th>d_z</th>\n      <td>0.599919</td>\n      <td>0.599919</td>\n      <td>1</td>\n      <td>8594.728327</td>\n      <td>1.264164</td>\n      <td>2.608958e-01</td>\n      <td></td>\n    </tr>\n    <tr>\n      <th>tta_z</th>\n      <td>129.168121</td>\n      <td>129.168121</td>\n      <td>1</td>\n      <td>8597.057317</td>\n      <td>272.185979</td>\n      <td>3.173882e-60</td>\n      <td>***</td>\n    </tr>\n    <tr>\n      <th>time_budget_z</th>\n      <td>63.368563</td>\n      <td>63.368563</td>\n      <td>1</td>\n      <td>8586.658892</td>\n      <td>133.531667</td>\n      <td>1.165224e-30</td>\n      <td>***</td>\n    </tr>\n    <tr>\n      <th>tta_z:time_budget_z</th>\n      <td>18.071613</td>\n      <td>18.071613</td>\n      <td>1</td>\n      <td>8582.008689</td>\n      <td>38.080911</td>\n      <td>7.094581e-10</td>\n      <td>***</td>\n    </tr>\n    <tr>\n      <th>decision:d_z</th>\n      <td>15.262386</td>\n      <td>15.262386</td>\n      <td>1</td>\n      <td>8591.988758</td>\n      <td>32.161243</td>\n      <td>1.464876e-08</td>\n      <td>***</td>\n    </tr>\n    <tr>\n      <th>decision:tta_z</th>\n      <td>79.633941</td>\n      <td>79.633941</td>\n      <td>1</td>\n      <td>8599.404594</td>\n      <td>167.806438</td>\n      <td>5.051654e-38</td>\n      <td>***</td>\n    </tr>\n    <tr>\n      <th>decision:time_budget_z</th>\n      <td>18.125095</td>\n      <td>18.125095</td>\n      <td>1</td>\n      <td>8583.265825</td>\n      <td>38.193609</td>\n      <td>6.698096e-10</td>\n      <td>***</td>\n    </tr>\n    <tr>\n      <th>decision:tta_z:time_budget_z</th>\n      <td>1.861408</td>\n      <td>1.861408</td>\n      <td>1</td>\n      <td>8581.322753</td>\n      <td>3.922400</td>\n      <td>4.767869e-02</td>\n      <td>*</td>\n    </tr>\n  </tbody>\n</table>\n</div>"
     },
     "execution_count": 8,
     "metadata": {},
     "output_type": "execute_result"
    }
   ],
   "source": [
    "RT_anova = model_RT.anova()\n",
    "RT_decision_marginal_estimates, RT_decision_comparisons = model_RT.post_hoc(marginal_vars=[\"decision\"])\n",
    "RT_anova"
   ],
   "metadata": {
    "collapsed": false,
    "ExecuteTime": {
     "end_time": "2024-09-28T18:02:13.131568400Z",
     "start_time": "2024-09-28T18:02:12.467855600Z"
    }
   }
  },
  {
   "cell_type": "code",
   "execution_count": 9,
   "outputs": [],
   "source": [
    "coefs = RT_anova.loc[:, [\"SS\", \"MS\", \"F-stat\", \"P-val\"]]\n",
    "coefs[\"P-val\"] = coefs[\"P-val\"].apply(p_formatted)\n",
    "styler = coefs.rename(columns=column_names, index=var_names).style.format(precision=2)\n",
    "\n",
    "with open(os.path.join(output_path, \"tab_RT_ANOVA.tex\"), 'w') as writer:\n",
    "     writer.write(styler.to_latex(\n",
    "         column_format=\"rrrrrr\", position=\"!t\", position_float=\"centering\",\n",
    "         hrules=True, label=\"tab:RT_ANOVA\", caption=\"ANOVA table based on the mixed-effects linear regression describing response time. Random slope of decision was included per participant: \\\\texttt{RT $\\sim$ 1 + decision*(TTA*time budget + distance) + (1 + decision) | participant}.\"\n",
    "     )\n",
    ")"
   ],
   "metadata": {
    "collapsed": false,
    "ExecuteTime": {
     "end_time": "2024-09-28T18:02:13.134224700Z",
     "start_time": "2024-09-28T18:02:13.120119900Z"
    }
   }
  },
  {
   "cell_type": "markdown",
   "source": [
    "## Difference between accept and reject RTs"
   ],
   "metadata": {
    "collapsed": false
   }
  },
  {
   "cell_type": "code",
   "execution_count": 10,
   "outputs": [
    {
     "data": {
      "text/plain": "          Contrast  Estimate  2.5_ci  97.5_ci     SE      DF  T-stat  P-val  \\\n1  Accept - Reject    -1.077  -1.272   -0.881  0.095  23.988 -11.382    0.0   \n\n   Sig  \n1  ***  ",
      "text/html": "<div>\n<style scoped>\n    .dataframe tbody tr th:only-of-type {\n        vertical-align: middle;\n    }\n\n    .dataframe tbody tr th {\n        vertical-align: top;\n    }\n\n    .dataframe thead th {\n        text-align: right;\n    }\n</style>\n<table border=\"1\" class=\"dataframe\">\n  <thead>\n    <tr style=\"text-align: right;\">\n      <th></th>\n      <th>Contrast</th>\n      <th>Estimate</th>\n      <th>2.5_ci</th>\n      <th>97.5_ci</th>\n      <th>SE</th>\n      <th>DF</th>\n      <th>T-stat</th>\n      <th>P-val</th>\n      <th>Sig</th>\n    </tr>\n  </thead>\n  <tbody>\n    <tr>\n      <th>1</th>\n      <td>Accept - Reject</td>\n      <td>-1.077</td>\n      <td>-1.272</td>\n      <td>-0.881</td>\n      <td>0.095</td>\n      <td>23.988</td>\n      <td>-11.382</td>\n      <td>0.0</td>\n      <td>***</td>\n    </tr>\n  </tbody>\n</table>\n</div>"
     },
     "execution_count": 10,
     "metadata": {},
     "output_type": "execute_result"
    }
   ],
   "source": [
    "RT_decision_marginal_estimates, RT_decision_comparisons = model_RT.post_hoc(marginal_vars=[\"decision\"])\n",
    "RT_decision_comparisons"
   ],
   "metadata": {
    "collapsed": false,
    "ExecuteTime": {
     "end_time": "2024-09-28T18:02:13.483725500Z",
     "start_time": "2024-09-28T18:02:13.135011500Z"
    }
   }
  },
  {
   "cell_type": "code",
   "execution_count": 11,
   "outputs": [
    {
     "data": {
      "text/plain": "1   -0.687359\nName: Estimate, dtype: float64"
     },
     "execution_count": 11,
     "metadata": {},
     "output_type": "execute_result"
    }
   ],
   "source": [
    "RT_decision_comparisons.Estimate*metrics.RT.std()"
   ],
   "metadata": {
    "collapsed": false,
    "ExecuteTime": {
     "end_time": "2024-09-28T18:02:13.483725500Z",
     "start_time": "2024-09-28T18:02:13.461489700Z"
    }
   }
  },
  {
   "cell_type": "markdown",
   "source": [
    "## Estimates of condition effects on RT per decision"
   ],
   "metadata": {
    "collapsed": false
   }
  },
  {
   "cell_type": "code",
   "execution_count": 12,
   "outputs": [],
   "source": [
    "def get_marginal_estimates(model_RT, marginal_vars):\n",
    "    marginal_estimates, comparisons = model_RT.post_hoc(marginal_vars=marginal_vars, grouping_vars=[\"decision\"])\n",
    "    marginal_estimates[\"T-stat\"] = marginal_estimates[\"Estimate\"]/marginal_estimates[\"SE\"]\n",
    "    marginal_estimates[\"P-val\"] = scipy.stats.t.sf(np.abs(marginal_estimates[\"T-stat\"]), marginal_estimates.DF)\n",
    "    return marginal_estimates"
   ],
   "metadata": {
    "collapsed": false,
    "ExecuteTime": {
     "end_time": "2024-09-28T18:02:13.518093Z",
     "start_time": "2024-09-28T18:02:13.478741Z"
    }
   }
  },
  {
   "cell_type": "code",
   "execution_count": 13,
   "outputs": [
    {
     "data": {
      "text/plain": "  decision  Estimate  2.5_ci  97.5_ci     SE        DF     T-stat  \\\n1   Accept     0.039   0.019    0.059  0.010  8589.916   3.900000   \n2   Reject     0.324   0.286    0.362  0.019  8598.869  17.052632   \n\n          P-val  \n1  4.846282e-05  \n2  1.880770e-64  ",
      "text/html": "<div>\n<style scoped>\n    .dataframe tbody tr th:only-of-type {\n        vertical-align: middle;\n    }\n\n    .dataframe tbody tr th {\n        vertical-align: top;\n    }\n\n    .dataframe thead th {\n        text-align: right;\n    }\n</style>\n<table border=\"1\" class=\"dataframe\">\n  <thead>\n    <tr style=\"text-align: right;\">\n      <th></th>\n      <th>decision</th>\n      <th>Estimate</th>\n      <th>2.5_ci</th>\n      <th>97.5_ci</th>\n      <th>SE</th>\n      <th>DF</th>\n      <th>T-stat</th>\n      <th>P-val</th>\n    </tr>\n  </thead>\n  <tbody>\n    <tr>\n      <th>1</th>\n      <td>Accept</td>\n      <td>0.039</td>\n      <td>0.019</td>\n      <td>0.059</td>\n      <td>0.010</td>\n      <td>8589.916</td>\n      <td>3.900000</td>\n      <td>4.846282e-05</td>\n    </tr>\n    <tr>\n      <th>2</th>\n      <td>Reject</td>\n      <td>0.324</td>\n      <td>0.286</td>\n      <td>0.362</td>\n      <td>0.019</td>\n      <td>8598.869</td>\n      <td>17.052632</td>\n      <td>1.880770e-64</td>\n    </tr>\n  </tbody>\n</table>\n</div>"
     },
     "execution_count": 13,
     "metadata": {},
     "output_type": "execute_result"
    }
   ],
   "source": [
    "get_marginal_estimates(model_RT, \"tta_z\")"
   ],
   "metadata": {
    "collapsed": false,
    "ExecuteTime": {
     "end_time": "2024-09-28T18:02:13.850032300Z",
     "start_time": "2024-09-28T18:02:13.493250Z"
    }
   }
  },
  {
   "cell_type": "code",
   "execution_count": 14,
   "outputs": [
    {
     "data": {
      "text/plain": "  decision  Estimate  2.5_ci  97.5_ci     SE        DF    T-stat     P-val\n1   Accept    -0.037  -0.055   -0.018  0.009  8579.888 -4.111111  0.000020\n2   Reject     0.055   0.029    0.081  0.013  8597.518  4.230769  0.000012",
      "text/html": "<div>\n<style scoped>\n    .dataframe tbody tr th:only-of-type {\n        vertical-align: middle;\n    }\n\n    .dataframe tbody tr th {\n        vertical-align: top;\n    }\n\n    .dataframe thead th {\n        text-align: right;\n    }\n</style>\n<table border=\"1\" class=\"dataframe\">\n  <thead>\n    <tr style=\"text-align: right;\">\n      <th></th>\n      <th>decision</th>\n      <th>Estimate</th>\n      <th>2.5_ci</th>\n      <th>97.5_ci</th>\n      <th>SE</th>\n      <th>DF</th>\n      <th>T-stat</th>\n      <th>P-val</th>\n    </tr>\n  </thead>\n  <tbody>\n    <tr>\n      <th>1</th>\n      <td>Accept</td>\n      <td>-0.037</td>\n      <td>-0.055</td>\n      <td>-0.018</td>\n      <td>0.009</td>\n      <td>8579.888</td>\n      <td>-4.111111</td>\n      <td>0.000020</td>\n    </tr>\n    <tr>\n      <th>2</th>\n      <td>Reject</td>\n      <td>0.055</td>\n      <td>0.029</td>\n      <td>0.081</td>\n      <td>0.013</td>\n      <td>8597.518</td>\n      <td>4.230769</td>\n      <td>0.000012</td>\n    </tr>\n  </tbody>\n</table>\n</div>"
     },
     "execution_count": 14,
     "metadata": {},
     "output_type": "execute_result"
    }
   ],
   "source": [
    "get_marginal_estimates(model_RT, \"d_z\")"
   ],
   "metadata": {
    "collapsed": false,
    "ExecuteTime": {
     "end_time": "2024-09-28T18:02:14.237072600Z",
     "start_time": "2024-09-28T18:02:13.850032300Z"
    }
   }
  },
  {
   "cell_type": "code",
   "execution_count": 15,
   "outputs": [
    {
     "data": {
      "text/plain": "  decision  Estimate  2.5_ci  97.5_ci     SE        DF    T-stat         P-val\n1   Accept     0.057   0.038    0.077  0.010  8579.983  5.700000  6.188545e-09\n2   Reject     0.189   0.152    0.226  0.019  8586.301  9.947368  1.727870e-23",
      "text/html": "<div>\n<style scoped>\n    .dataframe tbody tr th:only-of-type {\n        vertical-align: middle;\n    }\n\n    .dataframe tbody tr th {\n        vertical-align: top;\n    }\n\n    .dataframe thead th {\n        text-align: right;\n    }\n</style>\n<table border=\"1\" class=\"dataframe\">\n  <thead>\n    <tr style=\"text-align: right;\">\n      <th></th>\n      <th>decision</th>\n      <th>Estimate</th>\n      <th>2.5_ci</th>\n      <th>97.5_ci</th>\n      <th>SE</th>\n      <th>DF</th>\n      <th>T-stat</th>\n      <th>P-val</th>\n    </tr>\n  </thead>\n  <tbody>\n    <tr>\n      <th>1</th>\n      <td>Accept</td>\n      <td>0.057</td>\n      <td>0.038</td>\n      <td>0.077</td>\n      <td>0.010</td>\n      <td>8579.983</td>\n      <td>5.700000</td>\n      <td>6.188545e-09</td>\n    </tr>\n    <tr>\n      <th>2</th>\n      <td>Reject</td>\n      <td>0.189</td>\n      <td>0.152</td>\n      <td>0.226</td>\n      <td>0.019</td>\n      <td>8586.301</td>\n      <td>9.947368</td>\n      <td>1.727870e-23</td>\n    </tr>\n  </tbody>\n</table>\n</div>"
     },
     "execution_count": 15,
     "metadata": {},
     "output_type": "execute_result"
    }
   ],
   "source": [
    "get_marginal_estimates(model_RT, \"time_budget_z\")"
   ],
   "metadata": {
    "collapsed": false,
    "ExecuteTime": {
     "end_time": "2024-09-28T18:02:14.561206400Z",
     "start_time": "2024-09-28T18:02:14.223265600Z"
    }
   }
  },
  {
   "cell_type": "markdown",
   "source": [
    "## Estimates of time budget effect per decision and TTA level"
   ],
   "metadata": {
    "collapsed": false
   }
  },
  {
   "cell_type": "code",
   "execution_count": 16,
   "outputs": [],
   "source": [
    "marginal_estimates, comparisons = model_RT.post_hoc(marginal_vars=[\"time_budget_z\"], grouping_vars=[\"decision\", \"tta_z\"])\n",
    "marginal_estimates[\"T-stat\"] = marginal_estimates[\"Estimate\"]/marginal_estimates[\"SE\"]\n",
    "marginal_estimates[\"P-val\"] = scipy.stats.t.sf(np.abs(marginal_estimates[\"T-stat\"]), marginal_estimates.DF)"
   ],
   "metadata": {
    "collapsed": false,
    "ExecuteTime": {
     "end_time": "2024-09-28T18:02:14.913286800Z",
     "start_time": "2024-09-28T18:02:14.562167600Z"
    }
   }
  },
  {
   "cell_type": "code",
   "execution_count": 17,
   "outputs": [
    {
     "data": {
      "text/plain": "  decision  tta_z  Estimate  2.5_ci  97.5_ci     SE        DF    T-stat  \\\n1   Accept   -1.0     0.013  -0.020    0.046  0.017  8580.044  0.764706   \n2   Reject   -1.0     0.103   0.075    0.130  0.014  8590.524  7.357143   \n3   Accept    1.0     0.102   0.080    0.123  0.011  8578.325  9.272727   \n4   Reject    1.0     0.276   0.207    0.344  0.035  8583.289  7.885714   \n\n          P-val  \n1  2.222339e-01  \n2  1.025880e-13  \n3  1.129338e-20  \n4  1.755460e-15  ",
      "text/html": "<div>\n<style scoped>\n    .dataframe tbody tr th:only-of-type {\n        vertical-align: middle;\n    }\n\n    .dataframe tbody tr th {\n        vertical-align: top;\n    }\n\n    .dataframe thead th {\n        text-align: right;\n    }\n</style>\n<table border=\"1\" class=\"dataframe\">\n  <thead>\n    <tr style=\"text-align: right;\">\n      <th></th>\n      <th>decision</th>\n      <th>tta_z</th>\n      <th>Estimate</th>\n      <th>2.5_ci</th>\n      <th>97.5_ci</th>\n      <th>SE</th>\n      <th>DF</th>\n      <th>T-stat</th>\n      <th>P-val</th>\n    </tr>\n  </thead>\n  <tbody>\n    <tr>\n      <th>1</th>\n      <td>Accept</td>\n      <td>-1.0</td>\n      <td>0.013</td>\n      <td>-0.020</td>\n      <td>0.046</td>\n      <td>0.017</td>\n      <td>8580.044</td>\n      <td>0.764706</td>\n      <td>2.222339e-01</td>\n    </tr>\n    <tr>\n      <th>2</th>\n      <td>Reject</td>\n      <td>-1.0</td>\n      <td>0.103</td>\n      <td>0.075</td>\n      <td>0.130</td>\n      <td>0.014</td>\n      <td>8590.524</td>\n      <td>7.357143</td>\n      <td>1.025880e-13</td>\n    </tr>\n    <tr>\n      <th>3</th>\n      <td>Accept</td>\n      <td>1.0</td>\n      <td>0.102</td>\n      <td>0.080</td>\n      <td>0.123</td>\n      <td>0.011</td>\n      <td>8578.325</td>\n      <td>9.272727</td>\n      <td>1.129338e-20</td>\n    </tr>\n    <tr>\n      <th>4</th>\n      <td>Reject</td>\n      <td>1.0</td>\n      <td>0.276</td>\n      <td>0.207</td>\n      <td>0.344</td>\n      <td>0.035</td>\n      <td>8583.289</td>\n      <td>7.885714</td>\n      <td>1.755460e-15</td>\n    </tr>\n  </tbody>\n</table>\n</div>"
     },
     "execution_count": 17,
     "metadata": {},
     "output_type": "execute_result"
    }
   ],
   "source": [
    "marginal_estimates"
   ],
   "metadata": {
    "collapsed": false,
    "ExecuteTime": {
     "end_time": "2024-09-28T18:02:14.931227Z",
     "start_time": "2024-09-28T18:02:14.914284Z"
    }
   }
  },
  {
   "cell_type": "markdown",
   "source": [
    "# Decision outcome as a function of dwell time"
   ],
   "metadata": {
    "collapsed": false
   }
  },
  {
   "cell_type": "markdown",
   "source": [
    "## Not controlling for RT"
   ],
   "metadata": {
    "collapsed": false
   }
  },
  {
   "cell_type": "code",
   "execution_count": 18,
   "outputs": [
    {
     "name": "stdout",
     "output_type": "stream",
     "text": [
      "Linear mixed model fit by maximum likelihood  ['lmerMod']\n",
      "Formula: is_gap_accepted~(d_z+tta_z+time_budget_z)*dwell_mirror_z+(tta_z+time_budget_z|participant)\n",
      "\n",
      "Family: binomial\t Inference: parametric\n",
      "\n",
      "Number of observations: 8634\t Groups: {'participant': 24.0}\n",
      "\n",
      "Log-likelihood: -3297.142 \t AIC: 6622.285\n",
      "\n",
      "Random effects:\n",
      "\n",
      "                      Name    Var    Std\n",
      "participant    (Intercept)  1.551  1.245\n",
      "participant          tta_z  0.331  0.576\n",
      "participant  time_budget_z  0.136  0.369\n",
      "\n",
      "                     IV1            IV2   Corr\n",
      "participant  (Intercept)          tta_z -0.017\n",
      "participant  (Intercept)  time_budget_z -0.212\n",
      "participant        tta_z  time_budget_z -0.348\n",
      "\n",
      "Fixed effects:\n"
     ]
    },
    {
     "data": {
      "text/plain": "                              Estimate    2.5_ci   97.5_ci        SE  \\\n(Intercept)                   1.244753  0.736987  1.752518  0.259069   \nd_z                           0.532221  0.468510  0.595932  0.032506   \ntta_z                         1.826713  1.576004  2.077422  0.127915   \ntime_budget_z                -0.417957 -0.579957 -0.255957  0.082654   \ndwell_mirror_z                0.012679 -0.087313  0.112671  0.051017   \nd_z:dwell_mirror_z           -0.056011 -0.121570  0.009548  0.033449   \ntta_z:dwell_mirror_z          0.054649 -0.043354  0.152652  0.050002   \ntime_budget_z:dwell_mirror_z  0.251792  0.165288  0.338295  0.044135   \n\n                                    OR  OR_2.5_ci  OR_97.5_ci      Prob  \\\n(Intercept)                   3.472076   2.089631    5.769110  0.776390   \nd_z                           1.702709   1.597611    1.814721  0.630001   \ntta_z                         6.213428   4.835594    7.983856  0.861370   \ntime_budget_z                 0.658391   0.559923    0.774175  0.397006   \ndwell_mirror_z                1.012760   0.916391    1.119264  0.503170   \nd_z:dwell_mirror_z            0.945529   0.885530    1.009593  0.486001   \ntta_z:dwell_mirror_z          1.056170   0.957572    1.164920  0.513659   \ntime_budget_z:dwell_mirror_z  1.286328   1.179733    1.402554  0.562617   \n\n                              Prob_2.5_ci  Prob_97.5_ci     Z-stat  \\\n(Intercept)                      0.676337      0.852270   4.804721   \nd_z                              0.615031      0.644725  16.372888   \ntta_z                            0.828638      0.888689  14.280677   \ntime_budget_z                    0.358943      0.436358  -5.056681   \ndwell_mirror_z                   0.478186      0.528138   0.248531   \nd_z:dwell_mirror_z               0.469645      0.502387  -1.674523   \ntta_z:dwell_mirror_z             0.489163      0.538089   1.092930   \ntime_budget_z:dwell_mirror_z     0.541228      0.583776   5.705026   \n\n                                     P-val  Sig  \n(Intercept)                   1.549675e-06  ***  \nd_z                           2.986964e-60  ***  \ntta_z                         2.887836e-46  ***  \ntime_budget_z                 4.266155e-07  ***  \ndwell_mirror_z                8.037235e-01       \nd_z:dwell_mirror_z            9.402792e-02    .  \ntta_z:dwell_mirror_z          2.744245e-01       \ntime_budget_z:dwell_mirror_z  1.163252e-08  ***  ",
      "text/html": "<div>\n<style scoped>\n    .dataframe tbody tr th:only-of-type {\n        vertical-align: middle;\n    }\n\n    .dataframe tbody tr th {\n        vertical-align: top;\n    }\n\n    .dataframe thead th {\n        text-align: right;\n    }\n</style>\n<table border=\"1\" class=\"dataframe\">\n  <thead>\n    <tr style=\"text-align: right;\">\n      <th></th>\n      <th>Estimate</th>\n      <th>2.5_ci</th>\n      <th>97.5_ci</th>\n      <th>SE</th>\n      <th>OR</th>\n      <th>OR_2.5_ci</th>\n      <th>OR_97.5_ci</th>\n      <th>Prob</th>\n      <th>Prob_2.5_ci</th>\n      <th>Prob_97.5_ci</th>\n      <th>Z-stat</th>\n      <th>P-val</th>\n      <th>Sig</th>\n    </tr>\n  </thead>\n  <tbody>\n    <tr>\n      <th>(Intercept)</th>\n      <td>1.244753</td>\n      <td>0.736987</td>\n      <td>1.752518</td>\n      <td>0.259069</td>\n      <td>3.472076</td>\n      <td>2.089631</td>\n      <td>5.769110</td>\n      <td>0.776390</td>\n      <td>0.676337</td>\n      <td>0.852270</td>\n      <td>4.804721</td>\n      <td>1.549675e-06</td>\n      <td>***</td>\n    </tr>\n    <tr>\n      <th>d_z</th>\n      <td>0.532221</td>\n      <td>0.468510</td>\n      <td>0.595932</td>\n      <td>0.032506</td>\n      <td>1.702709</td>\n      <td>1.597611</td>\n      <td>1.814721</td>\n      <td>0.630001</td>\n      <td>0.615031</td>\n      <td>0.644725</td>\n      <td>16.372888</td>\n      <td>2.986964e-60</td>\n      <td>***</td>\n    </tr>\n    <tr>\n      <th>tta_z</th>\n      <td>1.826713</td>\n      <td>1.576004</td>\n      <td>2.077422</td>\n      <td>0.127915</td>\n      <td>6.213428</td>\n      <td>4.835594</td>\n      <td>7.983856</td>\n      <td>0.861370</td>\n      <td>0.828638</td>\n      <td>0.888689</td>\n      <td>14.280677</td>\n      <td>2.887836e-46</td>\n      <td>***</td>\n    </tr>\n    <tr>\n      <th>time_budget_z</th>\n      <td>-0.417957</td>\n      <td>-0.579957</td>\n      <td>-0.255957</td>\n      <td>0.082654</td>\n      <td>0.658391</td>\n      <td>0.559923</td>\n      <td>0.774175</td>\n      <td>0.397006</td>\n      <td>0.358943</td>\n      <td>0.436358</td>\n      <td>-5.056681</td>\n      <td>4.266155e-07</td>\n      <td>***</td>\n    </tr>\n    <tr>\n      <th>dwell_mirror_z</th>\n      <td>0.012679</td>\n      <td>-0.087313</td>\n      <td>0.112671</td>\n      <td>0.051017</td>\n      <td>1.012760</td>\n      <td>0.916391</td>\n      <td>1.119264</td>\n      <td>0.503170</td>\n      <td>0.478186</td>\n      <td>0.528138</td>\n      <td>0.248531</td>\n      <td>8.037235e-01</td>\n      <td></td>\n    </tr>\n    <tr>\n      <th>d_z:dwell_mirror_z</th>\n      <td>-0.056011</td>\n      <td>-0.121570</td>\n      <td>0.009548</td>\n      <td>0.033449</td>\n      <td>0.945529</td>\n      <td>0.885530</td>\n      <td>1.009593</td>\n      <td>0.486001</td>\n      <td>0.469645</td>\n      <td>0.502387</td>\n      <td>-1.674523</td>\n      <td>9.402792e-02</td>\n      <td>.</td>\n    </tr>\n    <tr>\n      <th>tta_z:dwell_mirror_z</th>\n      <td>0.054649</td>\n      <td>-0.043354</td>\n      <td>0.152652</td>\n      <td>0.050002</td>\n      <td>1.056170</td>\n      <td>0.957572</td>\n      <td>1.164920</td>\n      <td>0.513659</td>\n      <td>0.489163</td>\n      <td>0.538089</td>\n      <td>1.092930</td>\n      <td>2.744245e-01</td>\n      <td></td>\n    </tr>\n    <tr>\n      <th>time_budget_z:dwell_mirror_z</th>\n      <td>0.251792</td>\n      <td>0.165288</td>\n      <td>0.338295</td>\n      <td>0.044135</td>\n      <td>1.286328</td>\n      <td>1.179733</td>\n      <td>1.402554</td>\n      <td>0.562617</td>\n      <td>0.541228</td>\n      <td>0.583776</td>\n      <td>5.705026</td>\n      <td>1.163252e-08</td>\n      <td>***</td>\n    </tr>\n  </tbody>\n</table>\n</div>"
     },
     "execution_count": 18,
     "metadata": {},
     "output_type": "execute_result"
    }
   ],
   "source": [
    "model_decision_dwell = pymer4.models.Lmer(\"is_gap_accepted ~ (d_z + tta_z + time_budget_z)*dwell_mirror_z + (tta_z + time_budget_z | participant) \", data=metrics, family=\"binomial\")\n",
    "model_decision_dwell_fit = model_decision_dwell.fit(summarize=True)\n",
    "model_decision_dwell.coefs"
   ],
   "metadata": {
    "collapsed": false,
    "ExecuteTime": {
     "end_time": "2024-09-28T18:02:33.966705400Z",
     "start_time": "2024-09-28T18:02:14.932277500Z"
    }
   }
  },
  {
   "cell_type": "markdown",
   "source": [
    "## Controlling for RT"
   ],
   "metadata": {
    "collapsed": false
   }
  },
  {
   "cell_type": "code",
   "source": [
    "model_decision_dwell_RT = pymer4.models.Lmer(\"is_gap_accepted ~ (d_z + tta_z + time_budget_z)*dwell_mirror_z + RT_z + (d_z + tta_z + time_budget_z | participant) \", data=metrics, family=\"binomial\")\n",
    "model_decision_dwell_RT_fit = model_decision_dwell_RT.fit(summarize=True)\n",
    "model_decision_dwell_RT.coefs"
   ],
   "metadata": {
    "collapsed": false,
    "ExecuteTime": {
     "end_time": "2025-05-27T16:43:58.046800Z",
     "start_time": "2025-05-27T16:43:14.251669Z"
    }
   },
   "outputs": [
    {
     "name": "stdout",
     "output_type": "stream",
     "text": [
      "Linear mixed model fit by maximum likelihood  ['lmerMod']\n",
      "Formula: is_gap_accepted~(d_z+tta_z+time_budget_z)*dwell_mirror_z+RT_z+(d_z+tta_z+time_budget_z|participant)\n",
      "\n",
      "Family: binomial\t Inference: parametric\n",
      "\n",
      "Number of observations: 8634\t Groups: {'participant': 24.0}\n",
      "\n",
      "Log-likelihood: -2434.363 \t AIC: 4906.727\n",
      "\n",
      "Random effects:\n",
      "\n",
      "                      Name    Var    Std\n",
      "participant    (Intercept)  2.475  1.573\n",
      "participant            d_z  0.316  0.562\n",
      "participant          tta_z  0.542  0.736\n",
      "participant  time_budget_z  0.106  0.325\n",
      "\n",
      "                     IV1            IV2   Corr\n",
      "participant  (Intercept)            d_z -0.308\n",
      "participant  (Intercept)          tta_z  0.418\n",
      "participant  (Intercept)  time_budget_z -0.451\n",
      "participant          d_z          tta_z -0.722\n",
      "participant          d_z  time_budget_z  0.495\n",
      "participant        tta_z  time_budget_z -0.170\n",
      "\n",
      "Fixed effects:\n",
      "\n"
     ]
    },
    {
     "data": {
      "text/plain": [
       "                              Estimate    2.5_ci   97.5_ci        SE  \\\n",
       "(Intercept)                   1.774379  1.131468  2.417290  0.328022   \n",
       "d_z                           0.505404  0.266713  0.744094  0.121783   \n",
       "tta_z                         2.240503  1.917488  2.563518  0.164807   \n",
       "time_budget_z                -0.279482 -0.431422 -0.127542  0.077522   \n",
       "dwell_mirror_z               -0.318720 -0.447291 -0.190149  0.065599   \n",
       "RT_z                         -1.967265 -2.092053 -1.842477  0.063669   \n",
       "d_z:dwell_mirror_z           -0.153212 -0.259814 -0.046611  0.054390   \n",
       "tta_z:dwell_mirror_z          0.125021  0.003527  0.246515  0.061988   \n",
       "time_budget_z:dwell_mirror_z  0.243566  0.144792  0.342339  0.050395   \n",
       "\n",
       "                                    OR  OR_2.5_ci  OR_97.5_ci      Prob  \\\n",
       "(Intercept)                   5.896618   3.100204   11.215423  0.855001   \n",
       "d_z                           1.657655   1.305666    2.104534  0.623728   \n",
       "tta_z                         9.398058   6.803846   12.981408  0.903828   \n",
       "time_budget_z                 0.756175   0.649585    0.880256  0.430581   \n",
       "dwell_mirror_z                0.727079   0.639358    0.826836  0.420988   \n",
       "RT_z                          0.139839   0.123433    0.158425  0.122683   \n",
       "d_z:dwell_mirror_z            0.857948   0.771195    0.954459  0.461772   \n",
       "tta_z:dwell_mirror_z          1.133173   1.003534    1.279559  0.531215   \n",
       "time_budget_z:dwell_mirror_z  1.275790   1.155800    1.408237  0.560592   \n",
       "\n",
       "                              Prob_2.5_ci  Prob_97.5_ci     Z-stat  \\\n",
       "(Intercept)                      0.756110      0.918136   5.409332   \n",
       "d_z                              0.566286      0.677890   4.150036   \n",
       "tta_z                            0.871858      0.928476  13.594738   \n",
       "time_budget_z                    0.393787      0.468158  -3.605208   \n",
       "dwell_mirror_z                   0.390005      0.452605  -4.858643   \n",
       "RT_z                             0.109872      0.136759 -30.898494   \n",
       "d_z:dwell_mirror_z               0.435409      0.488349  -2.816940   \n",
       "tta_z:dwell_mirror_z             0.500882      0.561319   2.016870   \n",
       "time_budget_z:dwell_mirror_z     0.536135      0.584759   4.833092   \n",
       "\n",
       "                                      P-val  Sig  \n",
       "(Intercept)                    6.326039e-08  ***  \n",
       "d_z                            3.324224e-05  ***  \n",
       "tta_z                          4.302972e-42  ***  \n",
       "time_budget_z                  3.119032e-04  ***  \n",
       "dwell_mirror_z                 1.181930e-06  ***  \n",
       "RT_z                          1.251423e-209  ***  \n",
       "d_z:dwell_mirror_z             4.848361e-03   **  \n",
       "tta_z:dwell_mirror_z           4.370908e-02    *  \n",
       "time_budget_z:dwell_mirror_z   1.344284e-06  ***  "
      ],
      "text/html": [
       "<div>\n",
       "<style scoped>\n",
       "    .dataframe tbody tr th:only-of-type {\n",
       "        vertical-align: middle;\n",
       "    }\n",
       "\n",
       "    .dataframe tbody tr th {\n",
       "        vertical-align: top;\n",
       "    }\n",
       "\n",
       "    .dataframe thead th {\n",
       "        text-align: right;\n",
       "    }\n",
       "</style>\n",
       "<table border=\"1\" class=\"dataframe\">\n",
       "  <thead>\n",
       "    <tr style=\"text-align: right;\">\n",
       "      <th></th>\n",
       "      <th>Estimate</th>\n",
       "      <th>2.5_ci</th>\n",
       "      <th>97.5_ci</th>\n",
       "      <th>SE</th>\n",
       "      <th>OR</th>\n",
       "      <th>OR_2.5_ci</th>\n",
       "      <th>OR_97.5_ci</th>\n",
       "      <th>Prob</th>\n",
       "      <th>Prob_2.5_ci</th>\n",
       "      <th>Prob_97.5_ci</th>\n",
       "      <th>Z-stat</th>\n",
       "      <th>P-val</th>\n",
       "      <th>Sig</th>\n",
       "    </tr>\n",
       "  </thead>\n",
       "  <tbody>\n",
       "    <tr>\n",
       "      <th>(Intercept)</th>\n",
       "      <td>1.774379</td>\n",
       "      <td>1.131468</td>\n",
       "      <td>2.417290</td>\n",
       "      <td>0.328022</td>\n",
       "      <td>5.896618</td>\n",
       "      <td>3.100204</td>\n",
       "      <td>11.215423</td>\n",
       "      <td>0.855001</td>\n",
       "      <td>0.756110</td>\n",
       "      <td>0.918136</td>\n",
       "      <td>5.409332</td>\n",
       "      <td>6.326039e-08</td>\n",
       "      <td>***</td>\n",
       "    </tr>\n",
       "    <tr>\n",
       "      <th>d_z</th>\n",
       "      <td>0.505404</td>\n",
       "      <td>0.266713</td>\n",
       "      <td>0.744094</td>\n",
       "      <td>0.121783</td>\n",
       "      <td>1.657655</td>\n",
       "      <td>1.305666</td>\n",
       "      <td>2.104534</td>\n",
       "      <td>0.623728</td>\n",
       "      <td>0.566286</td>\n",
       "      <td>0.677890</td>\n",
       "      <td>4.150036</td>\n",
       "      <td>3.324224e-05</td>\n",
       "      <td>***</td>\n",
       "    </tr>\n",
       "    <tr>\n",
       "      <th>tta_z</th>\n",
       "      <td>2.240503</td>\n",
       "      <td>1.917488</td>\n",
       "      <td>2.563518</td>\n",
       "      <td>0.164807</td>\n",
       "      <td>9.398058</td>\n",
       "      <td>6.803846</td>\n",
       "      <td>12.981408</td>\n",
       "      <td>0.903828</td>\n",
       "      <td>0.871858</td>\n",
       "      <td>0.928476</td>\n",
       "      <td>13.594738</td>\n",
       "      <td>4.302972e-42</td>\n",
       "      <td>***</td>\n",
       "    </tr>\n",
       "    <tr>\n",
       "      <th>time_budget_z</th>\n",
       "      <td>-0.279482</td>\n",
       "      <td>-0.431422</td>\n",
       "      <td>-0.127542</td>\n",
       "      <td>0.077522</td>\n",
       "      <td>0.756175</td>\n",
       "      <td>0.649585</td>\n",
       "      <td>0.880256</td>\n",
       "      <td>0.430581</td>\n",
       "      <td>0.393787</td>\n",
       "      <td>0.468158</td>\n",
       "      <td>-3.605208</td>\n",
       "      <td>3.119032e-04</td>\n",
       "      <td>***</td>\n",
       "    </tr>\n",
       "    <tr>\n",
       "      <th>dwell_mirror_z</th>\n",
       "      <td>-0.318720</td>\n",
       "      <td>-0.447291</td>\n",
       "      <td>-0.190149</td>\n",
       "      <td>0.065599</td>\n",
       "      <td>0.727079</td>\n",
       "      <td>0.639358</td>\n",
       "      <td>0.826836</td>\n",
       "      <td>0.420988</td>\n",
       "      <td>0.390005</td>\n",
       "      <td>0.452605</td>\n",
       "      <td>-4.858643</td>\n",
       "      <td>1.181930e-06</td>\n",
       "      <td>***</td>\n",
       "    </tr>\n",
       "    <tr>\n",
       "      <th>RT_z</th>\n",
       "      <td>-1.967265</td>\n",
       "      <td>-2.092053</td>\n",
       "      <td>-1.842477</td>\n",
       "      <td>0.063669</td>\n",
       "      <td>0.139839</td>\n",
       "      <td>0.123433</td>\n",
       "      <td>0.158425</td>\n",
       "      <td>0.122683</td>\n",
       "      <td>0.109872</td>\n",
       "      <td>0.136759</td>\n",
       "      <td>-30.898494</td>\n",
       "      <td>1.251423e-209</td>\n",
       "      <td>***</td>\n",
       "    </tr>\n",
       "    <tr>\n",
       "      <th>d_z:dwell_mirror_z</th>\n",
       "      <td>-0.153212</td>\n",
       "      <td>-0.259814</td>\n",
       "      <td>-0.046611</td>\n",
       "      <td>0.054390</td>\n",
       "      <td>0.857948</td>\n",
       "      <td>0.771195</td>\n",
       "      <td>0.954459</td>\n",
       "      <td>0.461772</td>\n",
       "      <td>0.435409</td>\n",
       "      <td>0.488349</td>\n",
       "      <td>-2.816940</td>\n",
       "      <td>4.848361e-03</td>\n",
       "      <td>**</td>\n",
       "    </tr>\n",
       "    <tr>\n",
       "      <th>tta_z:dwell_mirror_z</th>\n",
       "      <td>0.125021</td>\n",
       "      <td>0.003527</td>\n",
       "      <td>0.246515</td>\n",
       "      <td>0.061988</td>\n",
       "      <td>1.133173</td>\n",
       "      <td>1.003534</td>\n",
       "      <td>1.279559</td>\n",
       "      <td>0.531215</td>\n",
       "      <td>0.500882</td>\n",
       "      <td>0.561319</td>\n",
       "      <td>2.016870</td>\n",
       "      <td>4.370908e-02</td>\n",
       "      <td>*</td>\n",
       "    </tr>\n",
       "    <tr>\n",
       "      <th>time_budget_z:dwell_mirror_z</th>\n",
       "      <td>0.243566</td>\n",
       "      <td>0.144792</td>\n",
       "      <td>0.342339</td>\n",
       "      <td>0.050395</td>\n",
       "      <td>1.275790</td>\n",
       "      <td>1.155800</td>\n",
       "      <td>1.408237</td>\n",
       "      <td>0.560592</td>\n",
       "      <td>0.536135</td>\n",
       "      <td>0.584759</td>\n",
       "      <td>4.833092</td>\n",
       "      <td>1.344284e-06</td>\n",
       "      <td>***</td>\n",
       "    </tr>\n",
       "  </tbody>\n",
       "</table>\n",
       "</div>"
      ]
     },
     "execution_count": 16,
     "metadata": {},
     "output_type": "execute_result"
    }
   ],
   "execution_count": 16
  },
  {
   "cell_type": "code",
   "execution_count": 20,
   "outputs": [],
   "source": [
    "coefs = model_decision_dwell_RT.coefs.loc[:, [\"Estimate\", \"SE\", \"Z-stat\", \"P-val\"]]\n",
    "coefs[\"P-val\"] = coefs[\"P-val\"].apply(p_formatted)\n",
    "styler = coefs.rename(columns=column_names, index=var_names).style.format(precision=2)\n",
    "\n",
    "with open(os.path.join(output_path, \"tab_decision_dwell_RT.tex\"), 'w') as writer:\n",
    "     writer.write(styler.to_latex(\n",
    "         column_format=\"rrrrr\", position=\"!ht\", position_float=\"centering\",\n",
    "         hrules=True, label=\"tab:decision_dwell_RT\", caption=\"Standardized coefficients of the mixed-effects logistic regression describing the decision outcome as a function of kinematic variables, response time, and relative dwell time. Random slopes of distance and TTA to the overtaking vehicle and the time budget provided by the merging lane were included per participant: \\\\texttt{decision $\\sim$ 1 + RT + distance + (TTA * time budget * \\\\% dwell time mirror) + (1 + distance + TTA + time budget) | participant}.\"\n",
    "     )\n",
    ")"
   ],
   "metadata": {
    "collapsed": false,
    "ExecuteTime": {
     "end_time": "2024-09-28T18:03:20.872780300Z",
     "start_time": "2024-09-28T18:03:20.801117500Z"
    }
   }
  },
  {
   "cell_type": "markdown",
   "source": [
    "## ANOVA"
   ],
   "metadata": {
    "collapsed": false
   }
  },
  {
   "cell_type": "code",
   "execution_count": 21,
   "outputs": [
    {
     "name": "stdout",
     "output_type": "stream",
     "text": [
      "SS Type III Analysis of Variance Table with Satterthwaite approximated degrees of freedom:\n",
      "(NOTE: Using original model contrasts, orthogonality not guaranteed)\n"
     ]
    },
    {
     "name": "stderr",
     "output_type": "stream",
     "text": [
      "D:\\source\\daddm\\venv\\lib\\site-packages\\pymer4\\models\\Lmer.py:260: UserWarning: MODELING FIT WARNING! Check model.warnings!! P-value computation did not occur because lmerTest choked. Possible issue(s): ranefx have too many parameters or too little variance...\n",
      "  warnings.warn(\n"
     ]
    },
    {
     "data": {
      "text/plain": "                              DF          SS          MS      F-stat\nd_z                            1  189.372300  189.372300  189.372300\ntta_z                          1   73.176075   73.176075   73.176075\ntime_budget_z                  1   15.350488   15.350488   15.350488\ndwell_mirror_z                 1    0.002303    0.002303    0.002303\nRT_z                           1  965.465310  965.465310  965.465310\nd_z:dwell_mirror_z             1   10.399702   10.399702   10.399702\ntta_z:dwell_mirror_z           1    4.513795    4.513795    4.513795\ntime_budget_z:dwell_mirror_z   1   24.928846   24.928846   24.928846",
      "text/html": "<div>\n<style scoped>\n    .dataframe tbody tr th:only-of-type {\n        vertical-align: middle;\n    }\n\n    .dataframe tbody tr th {\n        vertical-align: top;\n    }\n\n    .dataframe thead th {\n        text-align: right;\n    }\n</style>\n<table border=\"1\" class=\"dataframe\">\n  <thead>\n    <tr style=\"text-align: right;\">\n      <th></th>\n      <th>DF</th>\n      <th>SS</th>\n      <th>MS</th>\n      <th>F-stat</th>\n    </tr>\n  </thead>\n  <tbody>\n    <tr>\n      <th>d_z</th>\n      <td>1</td>\n      <td>189.372300</td>\n      <td>189.372300</td>\n      <td>189.372300</td>\n    </tr>\n    <tr>\n      <th>tta_z</th>\n      <td>1</td>\n      <td>73.176075</td>\n      <td>73.176075</td>\n      <td>73.176075</td>\n    </tr>\n    <tr>\n      <th>time_budget_z</th>\n      <td>1</td>\n      <td>15.350488</td>\n      <td>15.350488</td>\n      <td>15.350488</td>\n    </tr>\n    <tr>\n      <th>dwell_mirror_z</th>\n      <td>1</td>\n      <td>0.002303</td>\n      <td>0.002303</td>\n      <td>0.002303</td>\n    </tr>\n    <tr>\n      <th>RT_z</th>\n      <td>1</td>\n      <td>965.465310</td>\n      <td>965.465310</td>\n      <td>965.465310</td>\n    </tr>\n    <tr>\n      <th>d_z:dwell_mirror_z</th>\n      <td>1</td>\n      <td>10.399702</td>\n      <td>10.399702</td>\n      <td>10.399702</td>\n    </tr>\n    <tr>\n      <th>tta_z:dwell_mirror_z</th>\n      <td>1</td>\n      <td>4.513795</td>\n      <td>4.513795</td>\n      <td>4.513795</td>\n    </tr>\n    <tr>\n      <th>time_budget_z:dwell_mirror_z</th>\n      <td>1</td>\n      <td>24.928846</td>\n      <td>24.928846</td>\n      <td>24.928846</td>\n    </tr>\n  </tbody>\n</table>\n</div>"
     },
     "execution_count": 21,
     "metadata": {},
     "output_type": "execute_result"
    }
   ],
   "source": [
    "decision_dwell_ANOVA = model_decision_dwell_RT.anova()\n",
    "decision_dwell_marginal_estimates, decision_dwell_comparisons = model_decision_dwell_RT.post_hoc(grouping_vars=[\"tta_z\"], marginal_vars=[\"time_budget_z\"])\n",
    "decision_dwell_ANOVA"
   ],
   "metadata": {
    "collapsed": false,
    "ExecuteTime": {
     "end_time": "2024-09-28T18:03:21.286827100Z",
     "start_time": "2024-09-28T18:03:20.813783600Z"
    }
   }
  },
  {
   "cell_type": "code",
   "execution_count": 21,
   "outputs": [],
   "source": [],
   "metadata": {
    "collapsed": false,
    "ExecuteTime": {
     "end_time": "2024-09-28T18:03:21.334087200Z",
     "start_time": "2024-09-28T18:03:21.276215900Z"
    }
   }
  }
 ],
 "metadata": {
  "kernelspec": {
   "display_name": "Python 3",
   "language": "python",
   "name": "python3"
  },
  "language_info": {
   "codemirror_mode": {
    "name": "ipython",
    "version": 2
   },
   "file_extension": ".py",
   "mimetype": "text/x-python",
   "name": "python",
   "nbconvert_exporter": "python",
   "pygments_lexer": "ipython2",
   "version": "2.7.6"
  }
 },
 "nbformat": 4,
 "nbformat_minor": 0
}
